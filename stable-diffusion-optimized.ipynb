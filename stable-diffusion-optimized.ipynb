{
  "nbformat": 4,
  "nbformat_minor": 0,
  "metadata": {
    "colab": {
      "provenance": [],
      "collapsed_sections": [],
      "authorship_tag": "ABX9TyPIdPXe7MBN3FgHbSckm8FT"
    },
    "kernelspec": {
      "name": "python3",
      "display_name": "Python 3"
    },
    "language_info": {
      "name": "python"
    },
    "accelerator": "GPU",
    "gpuClass": "standard"
  },
  "cells": [
    {
      "cell_type": "code",
      "source": [
        "!pip install -q condacolab\n",
        "import condacolab\n",
        "condacolab.install_miniconda()"
      ],
      "metadata": {
        "id": "tYuUG87hqCQc"
      },
      "execution_count": null,
      "outputs": []
    },
    {
      "cell_type": "code",
      "execution_count": null,
      "metadata": {
        "id": "aaO-dOPFn-VG"
      },
      "outputs": [],
      "source": [
        "! git clone https://github.com/basujindal/stable-diffusion.git\n",
        "! conda env update -n base -f stable-diffusion/environment.yaml"
      ]
    },
    {
      "cell_type": "code",
      "source": [
        "! pip install huggingface_hub gradio"
      ],
      "metadata": {
        "id": "XWy6j_oG6GA8"
      },
      "execution_count": null,
      "outputs": []
    },
    {
      "cell_type": "code",
      "source": [
        "import sys\n",
        "sys.path.append(\"/usr/local/lib/python3.8/site-packages\")"
      ],
      "metadata": {
        "id": "qQ9LLlc78UfF"
      },
      "execution_count": 3,
      "outputs": []
    },
    {
      "cell_type": "code",
      "source": [
        "! pip install huggingface_hub"
      ],
      "metadata": {
        "id": "pCXzJW88JvKc"
      },
      "execution_count": null,
      "outputs": []
    },
    {
      "cell_type": "code",
      "source": [
        "from huggingface_hub import notebook_login\n",
        "\n",
        "notebook_login()\n",
        "! git config --global credential.helper store"
      ],
      "metadata": {
        "id": "7ehbbr6QvBUC"
      },
      "execution_count": null,
      "outputs": []
    },
    {
      "cell_type": "code",
      "source": [
        "! curl -s https://packagecloud.io/install/repositories/github/git-lfs/script.deb.sh | sudo bash\n",
        "! sudo apt-get install git-lfs\n",
        "! git lfs clone https://huggingface.co/CompVis/stable-diffusion-v-1-4-original\n",
        "%cd stable-diffusion\n",
        "! mkdir models/ldm/stable-diffusion-v1\n",
        "! ln ../stable-diffusion-v-1-4-original/sd-v1-4.ckpt models/ldm/stable-diffusion-v1/model.ckpt"
      ],
      "metadata": {
        "id": "DxRkbQg2oLQv"
      },
      "execution_count": null,
      "outputs": []
    },
    {
      "cell_type": "code",
      "source": [
        "! python optimizedSD/txt2img_gradio.py"
      ],
      "metadata": {
        "id": "Pv_HYeUgwqM9"
      },
      "execution_count": null,
      "outputs": []
    }
  ]
}